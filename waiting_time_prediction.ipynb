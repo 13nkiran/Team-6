{
 "cells": [
  {
   "cell_type": "code",
   "execution_count": 9,
   "metadata": {},
   "outputs": [],
   "source": [
    "import pandas as pd\n",
    "import numpy as np\n",
    "import matplotlib.pyplot as plt\n",
    "from sklearn import linear_model\n",
    "from sklearn.preprocessing import PolynomialFeatures"
   ]
  },
  {
   "cell_type": "code",
   "execution_count": 10,
   "metadata": {},
   "outputs": [
    {
     "output_type": "stream",
     "name": "stdout",
     "text": [
      "   Patients waiting  Staff present\n0                10            100\n1                 4             78\n2                 8             46\n3                 3            120\n4                 5             89\n5                16             75\n6                 6             83\n7                 3            103\n   Waiting times\n0             90\n1             45\n2             76\n3             32\n4             19\n5            138\n6             47\n7             28\n"
     ]
    }
   ],
   "source": [
    "dataset = pd.read_csv (r'C:\\Users\\User\\Documents\\GitHub\\Team-6\\waiting_times.csv')\n",
    "X = dataset[['Patients waiting', 'Staff present']]\n",
    "Y = dataset[['Waiting times']]\n",
    "print(X)\n",
    "print(Y)"
   ]
  },
  {
   "cell_type": "code",
   "execution_count": 11,
   "metadata": {},
   "outputs": [
    {
     "output_type": "stream",
     "name": "stdout",
     "text": [
      "Intercept: \n [3.66075443]\nCoefficients: \n [[ 8.59541345 -0.03895357]]\n"
     ]
    }
   ],
   "source": [
    "# with sklearn\n",
    "regr = linear_model.LinearRegression()\n",
    "regr.fit(X, Y)\n",
    "\n",
    "print('Intercept: \\n', regr.intercept_)\n",
    "print('Coefficients: \\n', regr.coef_)\n"
   ]
  },
  {
   "cell_type": "code",
   "execution_count": 12,
   "metadata": {},
   "outputs": [
    {
     "output_type": "stream",
     "name": "stdout",
     "text": [
      "Predicted waiting times: \n [[85.71953228]]\nPredicted waiting times: \n [[155.72935405]]\n"
     ]
    }
   ],
   "source": [
    "# prediction with sklearn\n",
    "Test_Patients_Waiting = 10\n",
    "Test_Staff_Present = 100\n",
    "#Prediction = Intercept + Factor1 * Coefficient1 + Factor2 * Coefficient2\n",
    "print ('Predicted waiting times: \\n', regr.predict([[Test_Patients_Waiting ,Test_Staff_Present]]))\n",
    "New_Patients_Waiting = 18\n",
    "New_Staff_Present = 68\n",
    "print ('Predicted waiting times: \\n', regr.predict([[New_Patients_Waiting ,New_Staff_Present]]))\n"
   ]
  }
 ],
 "metadata": {
  "kernelspec": {
   "name": "Python 3.7.4 64-bit ('base': conda)",
   "display_name": "Python 3.7.4 64-bit ('base': conda)",
   "metadata": {
    "interpreter": {
     "hash": "9d3bae0a0f66551680ef8a166f6b92cc2774d5d7901f027deb7bb883ed06d5ae"
    }
   }
  }
 },
 "nbformat": 4,
 "nbformat_minor": 2
}